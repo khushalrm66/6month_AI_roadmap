{
 "cells": [
  {
   "cell_type": "markdown",
   "id": "8cd9baf7-a9bc-4822-a18a-0205e80d7ff0",
   "metadata": {},
   "source": [
    "# Basic Codes\n",
    "        "
   ]
  },
  {
   "cell_type": "code",
   "execution_count": 6,
   "id": "169adea6-f555-4595-8758-9f203ef0a9ab",
   "metadata": {},
   "outputs": [],
   "source": [
    "A=6 #assigning the value to variable\n",
    "B=5\n",
    "c=A+B #addition of two variable  "
   ]
  },
  {
   "cell_type": "code",
   "execution_count": 7,
   "id": "11ac0dbb-15e3-4f6f-b0d9-ce92b5b4960f",
   "metadata": {},
   "outputs": [
    {
     "name": "stdout",
     "output_type": "stream",
     "text": [
      "11\n"
     ]
    }
   ],
   "source": [
    "print(c) #print the variable "
   ]
  },
  {
   "cell_type": "code",
   "execution_count": 8,
   "id": "786b585d-b312-41b7-a19e-6df6cc01d54d",
   "metadata": {},
   "outputs": [
    {
     "data": {
      "text/plain": [
       "1"
      ]
     },
     "execution_count": 8,
     "metadata": {},
     "output_type": "execute_result"
    }
   ],
   "source": [
    "A-B #Substraction"
   ]
  },
  {
   "cell_type": "code",
   "execution_count": 9,
   "id": "f4f1b43a-a053-4110-bb20-83c7757bb1de",
   "metadata": {},
   "outputs": [
    {
     "name": "stdout",
     "output_type": "stream",
     "text": [
      "30\n",
      "1.2\n",
      "1\n",
      "7776\n"
     ]
    }
   ],
   "source": [
    "print(A*B) #Multiplication\n",
    "print(A/B) #Division \n",
    "print(A%B) #modulus\n",
    "print(A**B) #exponential"
   ]
  },
  {
   "cell_type": "markdown",
   "id": "a8e55083-b45a-4c52-8eeb-3a18e09110cb",
   "metadata": {},
   "source": [
    "# DataType , Variable "
   ]
  },
  {
   "cell_type": "code",
   "execution_count": 10,
   "id": "c38d94f8-e666-49da-9ad0-eafbb58eb134",
   "metadata": {},
   "outputs": [
    {
     "name": "stdout",
     "output_type": "stream",
     "text": [
      "<class 'int'>\n",
      "<class 'float'>\n",
      "<class 'str'>\n",
      "<class 'complex'>\n",
      "<class 'list'>\n",
      "<class 'dict'>\n",
      "<class 'set'>\n",
      "<class 'bool'>\n",
      "<class 'bool'>\n"
     ]
    }
   ],
   "source": [
    "print(type(10))\n",
    "print(type(10.5))\n",
    "print(type('khushal'))\n",
    "print(type(1+2j))\n",
    "print(type([2,5,3,3]))\n",
    "print(type({'name':'khushal'}))\n",
    "print(type({3.4,6,4}))\n",
    "print(type(3==3))\n",
    "print(type(4<6))\n"
   ]
  },
  {
   "cell_type": "code",
   "execution_count": 11,
   "id": "eb99a3f9-64af-4368-a817-97fb23e8c787",
   "metadata": {},
   "outputs": [
    {
     "data": {
      "text/plain": [
       "4"
      ]
     },
     "execution_count": 11,
     "metadata": {},
     "output_type": "execute_result"
    }
   ],
   "source": [
    "1+3"
   ]
  },
  {
   "cell_type": "markdown",
   "id": "089e6acd-4e24-4e23-824f-e7898df94c36",
   "metadata": {},
   "source": [
    "# Arithmetic  Operation"
   ]
  },
  {
   "cell_type": "code",
   "execution_count": 12,
   "id": "1c836b92-a375-4bcb-9542-864d96f93bd8",
   "metadata": {},
   "outputs": [
    {
     "data": {
      "text/plain": [
       "2"
      ]
     },
     "execution_count": 12,
     "metadata": {},
     "output_type": "execute_result"
    }
   ],
   "source": [
    "4-2"
   ]
  },
  {
   "cell_type": "code",
   "execution_count": 13,
   "id": "769b6fa3-8441-477b-aa78-3a15929e3ab5",
   "metadata": {},
   "outputs": [
    {
     "data": {
      "text/plain": [
       "30"
      ]
     },
     "execution_count": 13,
     "metadata": {},
     "output_type": "execute_result"
    }
   ],
   "source": [
    "6*5"
   ]
  },
  {
   "cell_type": "code",
   "execution_count": 14,
   "id": "bdef4974-1989-43c4-86fc-7146bb1eab66",
   "metadata": {},
   "outputs": [
    {
     "data": {
      "text/plain": [
       "10.0"
      ]
     },
     "execution_count": 14,
     "metadata": {},
     "output_type": "execute_result"
    }
   ],
   "source": [
    "50/5"
   ]
  },
  {
   "cell_type": "code",
   "execution_count": 15,
   "id": "540ba133-9e03-48c8-8c7d-44efac576512",
   "metadata": {},
   "outputs": [
    {
     "data": {
      "text/plain": [
       "2"
      ]
     },
     "execution_count": 15,
     "metadata": {},
     "output_type": "execute_result"
    }
   ],
   "source": [
    "50%6"
   ]
  },
  {
   "cell_type": "code",
   "execution_count": 16,
   "id": "dd9c8213-0289-4c15-8d75-7a2ae21ccf44",
   "metadata": {},
   "outputs": [
    {
     "data": {
      "text/plain": [
       "-6.666666666666668"
      ]
     },
     "execution_count": 16,
     "metadata": {},
     "output_type": "execute_result"
    }
   ],
   "source": [
    "10+5-(65*3/9)"
   ]
  },
  {
   "cell_type": "code",
   "execution_count": 17,
   "id": "5c5eac5e-dd38-432f-96aa-ad79db4240d5",
   "metadata": {},
   "outputs": [
    {
     "data": {
      "text/plain": [
       "400"
      ]
     },
     "execution_count": 17,
     "metadata": {},
     "output_type": "execute_result"
    }
   ],
   "source": [
    "20**2 #Square "
   ]
  },
  {
   "cell_type": "code",
   "execution_count": 20,
   "id": "9272ca0e-a215-4e32-bf2c-1cde25dcd42e",
   "metadata": {},
   "outputs": [
    {
     "data": {
      "text/plain": [
       "10.0"
      ]
     },
     "execution_count": 20,
     "metadata": {},
     "output_type": "execute_result"
    }
   ],
   "source": [
    "20/2 #float Division"
   ]
  },
  {
   "cell_type": "code",
   "execution_count": 21,
   "id": "89360e9a-4251-4b8e-8b96-a89645e47f74",
   "metadata": {},
   "outputs": [
    {
     "data": {
      "text/plain": [
       "10"
      ]
     },
     "execution_count": 21,
     "metadata": {},
     "output_type": "execute_result"
    }
   ],
   "source": [
    "20//2 #int division\n"
   ]
  },
  {
   "cell_type": "code",
   "execution_count": null,
   "id": "d06526cc-ee64-49ba-a407-362e14daf76b",
   "metadata": {},
   "outputs": [],
   "source": []
  },
  {
   "cell_type": "markdown",
   "id": "166177c3-0cad-438b-a38c-5b13aea2b3c8",
   "metadata": {},
   "source": [
    "# Keywords"
   ]
  },
  {
   "cell_type": "code",
   "execution_count": null,
   "id": "4fcee17f-c684-4d60-9764-7a2a3a006e23",
   "metadata": {},
   "outputs": [],
   "source": []
  },
  {
   "cell_type": "code",
   "execution_count": 22,
   "id": "39e5c9c3-a12c-4248-a78f-44ffd303332c",
   "metadata": {},
   "outputs": [
    {
     "data": {
      "text/plain": [
       "['False',\n",
       " 'None',\n",
       " 'True',\n",
       " 'and',\n",
       " 'as',\n",
       " 'assert',\n",
       " 'async',\n",
       " 'await',\n",
       " 'break',\n",
       " 'class',\n",
       " 'continue',\n",
       " 'def',\n",
       " 'del',\n",
       " 'elif',\n",
       " 'else',\n",
       " 'except',\n",
       " 'finally',\n",
       " 'for',\n",
       " 'from',\n",
       " 'global',\n",
       " 'if',\n",
       " 'import',\n",
       " 'in',\n",
       " 'is',\n",
       " 'lambda',\n",
       " 'nonlocal',\n",
       " 'not',\n",
       " 'or',\n",
       " 'pass',\n",
       " 'raise',\n",
       " 'return',\n",
       " 'try',\n",
       " 'while',\n",
       " 'with',\n",
       " 'yield']"
      ]
     },
     "execution_count": 22,
     "metadata": {},
     "output_type": "execute_result"
    }
   ],
   "source": [
    "import keyword\n",
    "keyword.kwlist"
   ]
  },
  {
   "cell_type": "code",
   "execution_count": 23,
   "id": "fa3893f6-dc9d-4687-bcb4-3ca487406783",
   "metadata": {},
   "outputs": [
    {
     "data": {
      "text/plain": [
       "35"
      ]
     },
     "execution_count": 23,
     "metadata": {},
     "output_type": "execute_result"
    }
   ],
   "source": [
    "len(keyword.kwlist)"
   ]
  },
  {
   "cell_type": "code",
   "execution_count": null,
   "id": "7ad94c7c-d29f-4d8a-ad07-50dbc63cca18",
   "metadata": {},
   "outputs": [],
   "source": []
  },
  {
   "cell_type": "markdown",
   "id": "a46fe832-70b9-4c11-b612-ebfb707a65c8",
   "metadata": {},
   "source": [
    "# String "
   ]
  },
  {
   "cell_type": "code",
   "execution_count": null,
   "id": "3e53c9a2-1789-4bc2-bb1f-8f520e1600fa",
   "metadata": {},
   "outputs": [],
   "source": []
  },
  {
   "cell_type": "code",
   "execution_count": 1,
   "id": "6efa80aa-72b7-4e27-81f2-6329dac0bb04",
   "metadata": {},
   "outputs": [
    {
     "name": "stdout",
     "output_type": "stream",
     "text": [
      "p\n",
      "1\n",
      "Hello, World!\n",
      "13\n",
      " I hope you are enjoying 30 days of python challenge\n"
     ]
    }
   ],
   "source": [
    "letter = 'p'\n",
    "print(letter)\n",
    "print(len(letter))\n",
    "greeting = 'Hello, World!'\n",
    "print(greeting)\n",
    "print(len(greeting))\n",
    "sentence = \" I hope you are enjoying 30 days of python challenge\"\n",
    "print(sentence)"
   ]
  },
  {
   "cell_type": "code",
   "execution_count": 2,
   "id": "1b3f8d4f-0a47-46c0-9d9f-302bbc2e9704",
   "metadata": {},
   "outputs": [
    {
     "name": "stdout",
     "output_type": "stream",
     "text": [
      "I am a teacher and enjoy teaching.\n",
      "I didn't find anything as rewarding as empowering people.\n",
      "That is why I created 30 days of python.\n"
     ]
    }
   ],
   "source": [
    "# multiline string\n",
    "multiline_string = '''I am a teacher and enjoy teaching.\n",
    "I didn't find anything as rewarding as empowering people.\n",
    "That is why I created 30 days of python.'''\n",
    "print(multiline_string)"
   ]
  },
  {
   "cell_type": "code",
   "execution_count": 5,
   "id": "317180a9-ce68-469b-86ce-0e13d6f06f3a",
   "metadata": {},
   "outputs": [
    {
     "name": "stdout",
     "output_type": "stream",
     "text": [
      "KHushal Mahajan\n"
     ]
    }
   ],
   "source": [
    "# string concatenation\n",
    "first_name = 'KHushal'\n",
    "last_name = 'Mahajan'\n",
    "space= ' '\n",
    "full_name = first_name + space + last_name\n",
    "print(full_name)"
   ]
  },
  {
   "cell_type": "code",
   "execution_count": 6,
   "id": "15ae7477-7a79-4e85-aafa-0c779e65562b",
   "metadata": {},
   "outputs": [
    {
     "name": "stdout",
     "output_type": "stream",
     "text": [
      "7\n",
      "7\n",
      "False\n",
      "15\n"
     ]
    }
   ],
   "source": [
    "#checking length of a string using len() builtin function\n",
    "print(len(first_name))\n",
    "print(len(last_name))\n",
    "print(len(first_name)> len(last_name))\n",
    "print(len(full_name))"
   ]
  },
  {
   "cell_type": "code",
   "execution_count": null,
   "id": "8d312f82-aa50-4a58-81ab-9780bc49f149",
   "metadata": {},
   "outputs": [],
   "source": []
  }
 ],
 "metadata": {
  "kernelspec": {
   "display_name": "Python [conda env:base] *",
   "language": "python",
   "name": "conda-base-py"
  },
  "language_info": {
   "codemirror_mode": {
    "name": "ipython",
    "version": 3
   },
   "file_extension": ".py",
   "mimetype": "text/x-python",
   "name": "python",
   "nbconvert_exporter": "python",
   "pygments_lexer": "ipython3",
   "version": "3.12.7"
  }
 },
 "nbformat": 4,
 "nbformat_minor": 5
}
