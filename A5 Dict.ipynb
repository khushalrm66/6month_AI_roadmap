{
 "cells": [
  {
   "cell_type": "code",
   "execution_count": 1,
   "id": "9a7b7011-623f-4b63-8232-a1ebb814ea9e",
   "metadata": {},
   "outputs": [
    {
     "data": {
      "text/plain": [
       "{}"
      ]
     },
     "execution_count": 1,
     "metadata": {},
     "output_type": "execute_result"
    }
   ],
   "source": [
    "mydict = dict() # empty dictionary\n",
    "mydict"
   ]
  },
  {
   "cell_type": "code",
   "execution_count": 2,
   "id": "2029303a-e472-4440-a498-8495da660ed0",
   "metadata": {},
   "outputs": [
    {
     "data": {
      "text/plain": [
       "{1: 'One', 2: 'Two', 3: 'Three'}"
      ]
     },
     "execution_count": 2,
     "metadata": {},
     "output_type": "execute_result"
    }
   ],
   "source": [
    "mydict={1:'One',2:'Two',3:'Three'}\n",
    "mydict"
   ]
  },
  {
   "cell_type": "code",
   "execution_count": 4,
   "id": "4773fc42-6e9e-46a4-8047-e711f1b30ae8",
   "metadata": {},
   "outputs": [
    {
     "data": {
      "text/plain": [
       "{1: 'One', 2: 'Two', 3: 'Three'}"
      ]
     },
     "execution_count": 4,
     "metadata": {},
     "output_type": "execute_result"
    }
   ],
   "source": [
    "mydict1=dict({1:'One',2:'Two',3:'Three'}) #dict create with dict keyword\n",
    "mydict1"
   ]
  },
  {
   "cell_type": "code",
   "execution_count": 5,
   "id": "8220f61d-2a95-4a21-b7c1-bc50c5fc07f5",
   "metadata": {},
   "outputs": [
    {
     "data": {
      "text/plain": [
       "{1: 'one', 'A': 'two', 3: 'three'}"
      ]
     },
     "execution_count": 5,
     "metadata": {},
     "output_type": "execute_result"
    }
   ],
   "source": [
    "mydict2 = {1:'one' , 'A':'two' , 3:'three'} # dictionary with mixed keys\n",
    "mydict2"
   ]
  },
  {
   "cell_type": "code",
   "execution_count": 6,
   "id": "edbb5f24-d437-49a3-beb5-15eb423d332f",
   "metadata": {},
   "outputs": [
    {
     "data": {
      "text/plain": [
       "dict_keys([1, 'A', 3])"
      ]
     },
     "execution_count": 6,
     "metadata": {},
     "output_type": "execute_result"
    }
   ],
   "source": [
    "mydict2.keys() #return the keys of dict"
   ]
  },
  {
   "cell_type": "code",
   "execution_count": 7,
   "id": "7c2adf81-3dd3-472f-b3fc-dfc2275fbde6",
   "metadata": {},
   "outputs": [
    {
     "data": {
      "text/plain": [
       "dict_values(['one', 'two', 'three'])"
      ]
     },
     "execution_count": 7,
     "metadata": {},
     "output_type": "execute_result"
    }
   ],
   "source": [
    "mydict2.values() #return the dict values "
   ]
  },
  {
   "cell_type": "code",
   "execution_count": 8,
   "id": "81c60b78-65a6-4c20-bd04-12ef9e2b936a",
   "metadata": {},
   "outputs": [
    {
     "data": {
      "text/plain": [
       "{'b': None, 'a': None, 'c': None, 'd': None}"
      ]
     },
     "execution_count": 8,
     "metadata": {},
     "output_type": "execute_result"
    }
   ],
   "source": [
    "keys = {'a' , 'b' , 'c' , 'd'}\n",
    "mydict3 = dict.fromkeys(keys) # Create a dictionary from a sequence of keys\n",
    "mydict3"
   ]
  },
  {
   "cell_type": "code",
   "execution_count": 11,
   "id": "f1d6c4f6-7d80-455a-a7e3-2cc958be3018",
   "metadata": {},
   "outputs": [
    {
     "data": {
      "text/plain": [
       "{'b': 10, 'a': 10, 'c': 10, 'd': 10}"
      ]
     },
     "execution_count": 11,
     "metadata": {},
     "output_type": "execute_result"
    }
   ],
   "source": [
    "keys = {'a' , 'b' , 'c' , 'd'} \n",
    "value = 10\n",
    "mydict3 = dict.fromkeys(keys , value) \n",
    "mydict3"
   ]
  },
  {
   "cell_type": "code",
   "execution_count": 12,
   "id": "e4a918b1-eaad-4b62-b4e8-220f93f1857f",
   "metadata": {},
   "outputs": [
    {
     "data": {
      "text/plain": [
       "{1: 'One', 2: 'Two', 3: 'Three'}"
      ]
     },
     "execution_count": 12,
     "metadata": {},
     "output_type": "execute_result"
    }
   ],
   "source": [
    "mydict"
   ]
  },
  {
   "cell_type": "code",
   "execution_count": 14,
   "id": "620ccaed-4c72-4c8c-aaa7-a354e59cdc24",
   "metadata": {},
   "outputs": [
    {
     "data": {
      "text/plain": [
       "'One'"
      ]
     },
     "execution_count": 14,
     "metadata": {},
     "output_type": "execute_result"
    }
   ],
   "source": [
    "mydict[1] #accesing item using key"
   ]
  },
  {
   "cell_type": "code",
   "execution_count": 15,
   "id": "4b740cbe-84f7-4184-a9ec-4595aeadad94",
   "metadata": {},
   "outputs": [
    {
     "data": {
      "text/plain": [
       "'One'"
      ]
     },
     "execution_count": 15,
     "metadata": {},
     "output_type": "execute_result"
    }
   ],
   "source": [
    "mydict.get(1) # Access item using get() method"
   ]
  },
  {
   "cell_type": "code",
   "execution_count": 16,
   "id": "8b7f3798-241c-4a3c-ae59-b8c722616ff9",
   "metadata": {},
   "outputs": [
    {
     "data": {
      "text/plain": [
       "{'Name': 'Khushal', 'ID': 74123, 'DOB': 2004, 'job': 'Analyst'}"
      ]
     },
     "execution_count": 16,
     "metadata": {},
     "output_type": "execute_result"
    }
   ],
   "source": [
    "mydict5 = {'Name':'Khushal' , 'ID': 74123 , 'DOB': 2004 , 'job' :'Analyst'} \n",
    "mydict5"
   ]
  },
  {
   "cell_type": "code",
   "execution_count": 18,
   "id": "354847ff-05a2-4135-877a-d14f8e74487b",
   "metadata": {},
   "outputs": [
    {
     "data": {
      "text/plain": [
       "'Khushal'"
      ]
     },
     "execution_count": 18,
     "metadata": {},
     "output_type": "execute_result"
    }
   ],
   "source": [
    "mydict5['Name'] # Access item using key"
   ]
  },
  {
   "cell_type": "code",
   "execution_count": 19,
   "id": "7083724b-444e-4ca6-8e03-599fb70ed940",
   "metadata": {},
   "outputs": [
    {
     "data": {
      "text/plain": [
       "{'Name': 'Khushal', 'ID': 74123, 'DOB': 2004, 'job': 'Analyst'}"
      ]
     },
     "execution_count": 19,
     "metadata": {},
     "output_type": "execute_result"
    }
   ],
   "source": [
    "mydict5"
   ]
  },
  {
   "cell_type": "code",
   "execution_count": 20,
   "id": "0648ddd1-3105-4ec2-84d8-b2d4ee3961da",
   "metadata": {},
   "outputs": [
    {
     "data": {
      "text/plain": [
       "{'Name': 'Khushal',\n",
       " 'ID': 74123,\n",
       " 'DOB': 2005,\n",
       " 'job': 'Analyst',\n",
       " 'Address': 'Delhi'}"
      ]
     },
     "execution_count": 20,
     "metadata": {},
     "output_type": "execute_result"
    }
   ],
   "source": [
    "mydict5['DOB'] = 2005 # Changing Dictionary Items\n",
    "mydict5['Address'] = 'Delhi'\n",
    "mydict5"
   ]
  },
  {
   "cell_type": "code",
   "execution_count": 22,
   "id": "f5e1a768-d818-4b6d-8a2a-08add411d4d3",
   "metadata": {},
   "outputs": [
    {
     "data": {
      "text/plain": [
       "{'Name': 'Khushal', 'DOB': 2005, 'job': 'Analyst', 'Address': 'Delhi'}"
      ]
     },
     "execution_count": 22,
     "metadata": {},
     "output_type": "execute_result"
    }
   ],
   "source": [
    "del[mydict5['ID']] # Removing item using del method\n",
    "mydict5"
   ]
  },
  {
   "cell_type": "code",
   "execution_count": 23,
   "id": "2d8d6c2f-bc9e-49b8-8af0-f70e4b659ff0",
   "metadata": {},
   "outputs": [
    {
     "data": {
      "text/plain": [
       "{1: 'One', 2: 'Two', 3: 'Three'}"
      ]
     },
     "execution_count": 23,
     "metadata": {},
     "output_type": "execute_result"
    }
   ],
   "source": [
    "mydict1"
   ]
  },
  {
   "cell_type": "code",
   "execution_count": 24,
   "id": "2a5205e7-32dc-420a-a13f-d78d66806684",
   "metadata": {},
   "outputs": [
    {
     "data": {
      "text/plain": [
       "{}"
      ]
     },
     "execution_count": 24,
     "metadata": {},
     "output_type": "execute_result"
    }
   ],
   "source": [
    "mydict1.clear() # Delete all items of the dictionary using clear method\n",
    "mydict1"
   ]
  },
  {
   "cell_type": "code",
   "execution_count": 25,
   "id": "e1c113d0-a2bb-4241-bdf4-f4b0c5e0a1b1",
   "metadata": {},
   "outputs": [
    {
     "ename": "NameError",
     "evalue": "name 'mydict1' is not defined",
     "output_type": "error",
     "traceback": [
      "\u001b[1;31m---------------------------------------------------------------------------\u001b[0m",
      "\u001b[1;31mNameError\u001b[0m                                 Traceback (most recent call last)",
      "Cell \u001b[1;32mIn[25], line 2\u001b[0m\n\u001b[0;32m      1\u001b[0m \u001b[38;5;28;01mdel\u001b[39;00m mydict1 \u001b[38;5;66;03m# Delete the dictionary object\u001b[39;00m\n\u001b[1;32m----> 2\u001b[0m mydict1\n",
      "\u001b[1;31mNameError\u001b[0m: name 'mydict1' is not defined"
     ]
    }
   ],
   "source": [
    "del mydict1 # Delete the dictionary object\n",
    "mydict1"
   ]
  },
  {
   "cell_type": "code",
   "execution_count": 27,
   "id": "94cf137f-889f-4c3a-9ad8-a3364100faa5",
   "metadata": {},
   "outputs": [
    {
     "name": "stdout",
     "output_type": "stream",
     "text": [
      "Name : Khushal\n",
      "DOB : 2005\n",
      "job : Analyst\n",
      "Address : Delhi\n"
     ]
    }
   ],
   "source": [
    "for i in mydict5:\n",
    "    print(i , ':' , mydict5[i]) # Key & value pair"
   ]
  },
  {
   "cell_type": "code",
   "execution_count": 28,
   "id": "041a84f1-c2fd-4d92-8764-e2b85cd4cd12",
   "metadata": {},
   "outputs": [
    {
     "data": {
      "text/plain": [
       "{'Name': 'Khushal', 'DOB': 2005, 'job': 'Analyst', 'Address': 'Delhi'}"
      ]
     },
     "execution_count": 28,
     "metadata": {},
     "output_type": "execute_result"
    }
   ],
   "source": [
    "mydict5"
   ]
  },
  {
   "cell_type": "code",
   "execution_count": 30,
   "id": "03268815-3454-44e3-bc76-d949f4e60cac",
   "metadata": {},
   "outputs": [
    {
     "data": {
      "text/plain": [
       "True"
      ]
     },
     "execution_count": 30,
     "metadata": {},
     "output_type": "execute_result"
    }
   ],
   "source": [
    "'Name' in mydict5 # Test if a key is in a dictionary or not."
   ]
  },
  {
   "cell_type": "code",
   "execution_count": 32,
   "id": "ea54ac2a-437d-4084-9f96-384e5a8dc352",
   "metadata": {},
   "outputs": [
    {
     "data": {
      "text/plain": [
       "False"
      ]
     },
     "execution_count": 32,
     "metadata": {},
     "output_type": "execute_result"
    }
   ],
   "source": [
    "'Id' in mydict5"
   ]
  },
  {
   "cell_type": "code",
   "execution_count": null,
   "id": "4501f799-5826-4871-b228-6bd9af528ca4",
   "metadata": {},
   "outputs": [],
   "source": []
  }
 ],
 "metadata": {
  "kernelspec": {
   "display_name": "Python [conda env:base] *",
   "language": "python",
   "name": "conda-base-py"
  },
  "language_info": {
   "codemirror_mode": {
    "name": "ipython",
    "version": 3
   },
   "file_extension": ".py",
   "mimetype": "text/x-python",
   "name": "python",
   "nbconvert_exporter": "python",
   "pygments_lexer": "ipython3",
   "version": "3.12.7"
  }
 },
 "nbformat": 4,
 "nbformat_minor": 5
}
