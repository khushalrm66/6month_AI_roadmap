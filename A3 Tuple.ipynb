{
 "cells": [
  {
   "cell_type": "markdown",
   "id": "fc7b7a10-6c9f-40da-a263-ea6677698c43",
   "metadata": {},
   "source": [
    "#TUPLE \n"
   ]
  },
  {
   "cell_type": "code",
   "execution_count": 1,
   "id": "717109b9-346a-4b40-bda9-3731814b82af",
   "metadata": {},
   "outputs": [
    {
     "data": {
      "text/plain": [
       "()"
      ]
     },
     "execution_count": 1,
     "metadata": {},
     "output_type": "execute_result"
    }
   ],
   "source": [
    "t=() #empty tuple\n",
    "t"
   ]
  },
  {
   "cell_type": "code",
   "execution_count": 2,
   "id": "218c4c45-164f-4196-a68e-f1c8fd5f6413",
   "metadata": {},
   "outputs": [
    {
     "data": {
      "text/plain": [
       "tuple"
      ]
     },
     "execution_count": 2,
     "metadata": {},
     "output_type": "execute_result"
    }
   ],
   "source": [
    "type(t)"
   ]
  },
  {
   "cell_type": "code",
   "execution_count": 1,
   "id": "e2d5663a-cb7d-4295-80d7-cde5a294cf58",
   "metadata": {},
   "outputs": [
    {
     "data": {
      "text/plain": [
       "(10, 3, 45, 2, 10)"
      ]
     },
     "execution_count": 1,
     "metadata": {},
     "output_type": "execute_result"
    }
   ],
   "source": [
    "t1=(10,3,45,2,10) \n",
    "\n",
    "t1"
   ]
  },
  {
   "cell_type": "code",
   "execution_count": 2,
   "id": "2fa4cfd7-79ca-432f-811b-ec501cc41abb",
   "metadata": {},
   "outputs": [
    {
     "data": {
      "text/plain": [
       "3"
      ]
     },
     "execution_count": 2,
     "metadata": {},
     "output_type": "execute_result"
    }
   ],
   "source": [
    "t1.index(2)\n"
   ]
  },
  {
   "cell_type": "code",
   "execution_count": 3,
   "id": "4108e268-f173-444f-8ce0-a220e120427f",
   "metadata": {},
   "outputs": [
    {
     "data": {
      "text/plain": [
       "2"
      ]
     },
     "execution_count": 3,
     "metadata": {},
     "output_type": "execute_result"
    }
   ],
   "source": [
    "t1.count(10) #count the element of tuple"
   ]
  },
  {
   "cell_type": "code",
   "execution_count": 4,
   "id": "0aa85933-60f0-4144-b50f-bfb8b5e86688",
   "metadata": {},
   "outputs": [
    {
     "data": {
      "text/plain": [
       "0"
      ]
     },
     "execution_count": 4,
     "metadata": {},
     "output_type": "execute_result"
    }
   ],
   "source": [
    "t1.index(10) #find the index of element in tuple "
   ]
  },
  {
   "cell_type": "code",
   "execution_count": 5,
   "id": "f2ccde94-b6b6-4242-832d-7683e8bf6a64",
   "metadata": {},
   "outputs": [
    {
     "data": {
      "text/plain": [
       "[1, 3, 5]"
      ]
     },
     "execution_count": 5,
     "metadata": {},
     "output_type": "execute_result"
    }
   ],
   "source": [
    "t2=([1,3,5,]) #list in tuple\n",
    "t2"
   ]
  },
  {
   "cell_type": "code",
   "execution_count": 6,
   "id": "2527ae8f-3d0f-4fb3-8071-39d519662b60",
   "metadata": {},
   "outputs": [
    {
     "data": {
      "text/plain": [
       "(2, 4, (2, 45))"
      ]
     },
     "execution_count": 6,
     "metadata": {},
     "output_type": "execute_result"
    }
   ],
   "source": [
    "t3=(2,4,(2,45)) #nested tuple\n",
    "t3"
   ]
  },
  {
   "cell_type": "code",
   "execution_count": 7,
   "id": "9129c7c8-77b5-4bde-b33b-56bea1fc8a84",
   "metadata": {},
   "outputs": [
    {
     "data": {
      "text/plain": [
       "12"
      ]
     },
     "execution_count": 7,
     "metadata": {},
     "output_type": "execute_result"
    }
   ],
   "source": [
    "l2=[2,5,5,(3,5,3,5),34] \n",
    "\n",
    "12"
   ]
  },
  {
   "cell_type": "code",
   "execution_count": 8,
   "id": "8dc5181c-f885-48bb-a077-e045e678b695",
   "metadata": {},
   "outputs": [
    {
     "data": {
      "text/plain": [
       "list"
      ]
     },
     "execution_count": 8,
     "metadata": {},
     "output_type": "execute_result"
    }
   ],
   "source": [
    "type(l2)"
   ]
  },
  {
   "cell_type": "code",
   "execution_count": 11,
   "id": "0103467a-9f81-4a14-b858-17e9b50a34c0",
   "metadata": {},
   "outputs": [
    {
     "data": {
      "text/plain": [
       "('one', 'khushal', 'nareshit')"
      ]
     },
     "execution_count": 11,
     "metadata": {},
     "output_type": "execute_result"
    }
   ],
   "source": [
    "t4=('one','khushal','nareshit')\n",
    "t4"
   ]
  },
  {
   "cell_type": "markdown",
   "id": "53c471e3-10ad-4c27-8540-5c4b49634e0f",
   "metadata": {},
   "source": [
    "# Tuple Indexing\n"
   ]
  },
  {
   "cell_type": "code",
   "execution_count": 9,
   "id": "934f0f57-558b-4a46-94a6-0431a025b14e",
   "metadata": {},
   "outputs": [
    {
     "data": {
      "text/plain": [
       "(10, 3, 45, 2, 10)"
      ]
     },
     "execution_count": 9,
     "metadata": {},
     "output_type": "execute_result"
    }
   ],
   "source": [
    "t1"
   ]
  },
  {
   "cell_type": "code",
   "execution_count": 10,
   "id": "dde4e8bb-ce31-43cb-a617-24725bf76e05",
   "metadata": {},
   "outputs": [
    {
     "data": {
      "text/plain": [
       "10"
      ]
     },
     "execution_count": 10,
     "metadata": {},
     "output_type": "execute_result"
    }
   ],
   "source": [
    "t1[0] #Retreving first elememt of tuple "
   ]
  },
  {
   "cell_type": "code",
   "execution_count": 12,
   "id": "7d1500f8-2ddb-4002-a5a5-f57b43f6755f",
   "metadata": {},
   "outputs": [
    {
     "data": {
      "text/plain": [
       "('one', 'khushal', 'nareshit')"
      ]
     },
     "execution_count": 12,
     "metadata": {},
     "output_type": "execute_result"
    }
   ],
   "source": [
    "t4"
   ]
  },
  {
   "cell_type": "code",
   "execution_count": 14,
   "id": "0c23f0c9-9016-44cd-845a-167b3f6859da",
   "metadata": {},
   "outputs": [
    {
     "data": {
      "text/plain": [
       "'u'"
      ]
     },
     "execution_count": 14,
     "metadata": {},
     "output_type": "execute_result"
    }
   ],
   "source": [
    "t4[1][2] #Nested indexing\n"
   ]
  },
  {
   "cell_type": "code",
   "execution_count": 15,
   "id": "614d2523-c375-4b09-aae0-1dc588a1484f",
   "metadata": {},
   "outputs": [
    {
     "data": {
      "text/plain": [
       "'nareshit'"
      ]
     },
     "execution_count": 15,
     "metadata": {},
     "output_type": "execute_result"
    }
   ],
   "source": [
    "t4[-1]"
   ]
  },
  {
   "cell_type": "markdown",
   "id": "3fc9f0ef-375e-499d-98c1-280b277dd142",
   "metadata": {},
   "source": [
    "# Loop in Tuple"
   ]
  },
  {
   "cell_type": "code",
   "execution_count": 16,
   "id": "fc8f0078-a832-4c3b-9f85-904bbaa9fb48",
   "metadata": {},
   "outputs": [
    {
     "data": {
      "text/plain": [
       "('one', 'two', 'three', 'four', 'five')"
      ]
     },
     "execution_count": 16,
     "metadata": {},
     "output_type": "execute_result"
    }
   ],
   "source": [
    "t5=('one','two','three','four','five')\n",
    "t5"
   ]
  },
  {
   "cell_type": "code",
   "execution_count": null,
   "id": "ef1ccbe1-735e-46a9-9a47-ccc1b85d19d5",
   "metadata": {},
   "outputs": [],
   "source": [
    "for i in f5:\n",
    "    "
   ]
  }
 ],
 "metadata": {
  "kernelspec": {
   "display_name": "Python [conda env:base] *",
   "language": "python",
   "name": "conda-base-py"
  },
  "language_info": {
   "codemirror_mode": {
    "name": "ipython",
    "version": 3
   },
   "file_extension": ".py",
   "mimetype": "text/x-python",
   "name": "python",
   "nbconvert_exporter": "python",
   "pygments_lexer": "ipython3",
   "version": "3.12.7"
  }
 },
 "nbformat": 4,
 "nbformat_minor": 5
}
