{
 "cells": [
  {
   "cell_type": "code",
   "execution_count": null,
   "id": "84ae03a7-8199-4947-be3d-36a96ebbea3d",
   "metadata": {},
   "outputs": [],
   "source": [
    "import numpy as np"
   ]
  },
  {
   "cell_type": "code",
   "execution_count": null,
   "id": "999d661b-c91d-443e-8970-c7d0b3ecd51d",
   "metadata": {},
   "outputs": [],
   "source": [
    "ones_arr=np.ones((5,5),dtype=int)"
   ]
  },
  {
   "cell_type": "code",
   "execution_count": null,
   "id": "49972e55-b5e9-4160-b6a0-ffa530312d3a",
   "metadata": {},
   "outputs": [],
   "source": [
    "ones_arr"
   ]
  },
  {
   "cell_type": "code",
   "execution_count": null,
   "id": "15a1c363-9f8b-4ca9-b4b4-109cffbd9073",
   "metadata": {},
   "outputs": [],
   "source": [
    "\n",
    "ones_arr*255"
   ]
  },
  {
   "cell_type": "code",
   "execution_count": null,
   "id": "a968d188-df6d-43d2-9da6-eb2aac1295b0",
   "metadata": {},
   "outputs": [],
   "source": [
    "import matplotlib.pyplot as plt"
   ]
  },
  {
   "cell_type": "code",
   "execution_count": null,
   "id": "bead401a-10a6-474d-9313-30bd233c3bf2",
   "metadata": {},
   "outputs": [],
   "source": [
    "from PIL import Image  # PIL refers to Python image library"
   ]
  },
  {
   "cell_type": "code",
   "execution_count": null,
   "id": "d749c111-d217-4168-a55b-7b559f582c68",
   "metadata": {},
   "outputs": [],
   "source": [
    "horse_img= Image.open(r'C:\\Users\\khush\\Desktop\\horse.jpg') # r = raw string (video , audio, )"
   ]
  },
  {
   "cell_type": "code",
   "execution_count": null,
   "id": "bf6d168d-5664-4678-bc4a-c9f85dda710f",
   "metadata": {},
   "outputs": [],
   "source": [
    "horse_img"
   ]
  },
  {
   "cell_type": "code",
   "execution_count": null,
   "id": "d34659a4-0592-4c5b-8cad-727a10ae211c",
   "metadata": {},
   "outputs": [],
   "source": [
    "trisha_img= Image.open(r'C:\\Users\\khush\\Desktop\\trisha.jpg') # r = raw string (video , audio, )"
   ]
  },
  {
   "cell_type": "code",
   "execution_count": null,
   "id": "27ddddb3-12f1-4867-9f94-1305d5c379ac",
   "metadata": {},
   "outputs": [],
   "source": [
    "trisha_img"
   ]
  },
  {
   "cell_type": "code",
   "execution_count": null,
   "id": "b5674cb4-9e52-44c9-bf08-a7ef6cbb1827",
   "metadata": {},
   "outputs": [],
   "source": [
    "type(horse_img)"
   ]
  },
  {
   "cell_type": "code",
   "execution_count": null,
   "id": "258aef88-d248-4b0e-b9a2-743967d70dc9",
   "metadata": {},
   "outputs": [],
   "source": [
    "horse_arr=np.asarray(horse_img)\n",
    "horse_arr"
   ]
  },
  {
   "cell_type": "code",
   "execution_count": null,
   "id": "338d8889-1ffa-43ed-8111-c289e798ce40",
   "metadata": {},
   "outputs": [],
   "source": [
    "type(horse_arr)"
   ]
  },
  {
   "cell_type": "code",
   "execution_count": null,
   "id": "8e1a1e8c-d887-421a-9882-ef24a61445ee",
   "metadata": {},
   "outputs": [],
   "source": [
    "plt.imshow(horse_arr)"
   ]
  },
  {
   "cell_type": "code",
   "execution_count": null,
   "id": "abe6336e-2203-4e40-878d-c28a34a7e46c",
   "metadata": {},
   "outputs": [],
   "source": [
    "horse_arr.shape"
   ]
  },
  {
   "cell_type": "code",
   "execution_count": null,
   "id": "5ae3d9d3-42ab-4259-b734-fba610f2725f",
   "metadata": {},
   "outputs": [],
   "source": [
    "horse_red=horse_arr.copy()"
   ]
  },
  {
   "cell_type": "code",
   "execution_count": null,
   "id": "73a2368d-3d70-4c7b-a274-d63d33c30112",
   "metadata": {},
   "outputs": [],
   "source": [
    "horse_red"
   ]
  },
  {
   "cell_type": "code",
   "execution_count": null,
   "id": "8e26c205-1c28-47b6-8841-088257597041",
   "metadata": {},
   "outputs": [],
   "source": [
    "horse_arr==horse_red"
   ]
  },
  {
   "cell_type": "code",
   "execution_count": null,
   "id": "a77eddd7-dff9-48a6-92b8-0e568452b201",
   "metadata": {},
   "outputs": [],
   "source": [
    "plt.imshow(horse_red)"
   ]
  },
  {
   "cell_type": "code",
   "execution_count": null,
   "id": "9a843a67-5190-48ac-b073-a383713aed62",
   "metadata": {},
   "outputs": [],
   "source": [
    "t_arr=np.asarray(trisha_img)\n",
    "t_arr"
   ]
  },
  {
   "cell_type": "code",
   "execution_count": null,
   "id": "d33c12c7-0da2-4ddb-9e42-ff9a9439e17f",
   "metadata": {},
   "outputs": [],
   "source": [
    "plt.imshow(t_arr)"
   ]
  },
  {
   "cell_type": "code",
   "execution_count": null,
   "id": "384bca82-1449-49f4-9951-6fbdd5a24465",
   "metadata": {},
   "outputs": [],
   "source": [
    "t_red=t_arr.copy()"
   ]
  },
  {
   "cell_type": "code",
   "execution_count": null,
   "id": "90b07a4a-a59a-4539-8620-85215d6c3078",
   "metadata": {},
   "outputs": [],
   "source": [
    "plt.imshow(t_red)"
   ]
  },
  {
   "cell_type": "code",
   "execution_count": null,
   "id": "7ae30c4c-8a97-4538-ac14-6580acde5a8a",
   "metadata": {},
   "outputs": [],
   "source": [
    "plt.imshow(t_arr[:,:,0])"
   ]
  },
  {
   "cell_type": "code",
   "execution_count": null,
   "id": "e37422db-544a-4dee-b7e8-7bb2580ae0ef",
   "metadata": {},
   "outputs": [],
   "source": [
    "plt.imshow(t_arr[:,:,0],cmap='Greys')"
   ]
  },
  {
   "cell_type": "code",
   "execution_count": null,
   "id": "e1c0a88f-a330-4183-90e6-5994585f9012",
   "metadata": {},
   "outputs": [],
   "source": [
    "plt.imshow(t_arr[:,:,0],cmap='grey')"
   ]
  },
  {
   "cell_type": "code",
   "execution_count": null,
   "id": "5fe97af4-9201-4f3b-9099-fceb3b944639",
   "metadata": {},
   "outputs": [],
   "source": [
    "plt.imshow(t_arr[:,:,1],cmap='grey')"
   ]
  },
  {
   "cell_type": "code",
   "execution_count": null,
   "id": "a33be8ba-5cce-4849-9a08-2b7aabf38d18",
   "metadata": {},
   "outputs": [],
   "source": [
    "plt.imshow(t_arr[:,:,0],cmap='YlGn')"
   ]
  },
  {
   "cell_type": "code",
   "execution_count": null,
   "id": "e05bbaa7-5569-4182-97b7-318ce5fbf99f",
   "metadata": {},
   "outputs": [],
   "source": []
  }
 ],
 "metadata": {
  "kernelspec": {
   "display_name": "Python [conda env:base] *",
   "language": "python",
   "name": "conda-base-py"
  },
  "language_info": {
   "codemirror_mode": {
    "name": "ipython",
    "version": 3
   },
   "file_extension": ".py",
   "mimetype": "text/x-python",
   "name": "python",
   "nbconvert_exporter": "python",
   "pygments_lexer": "ipython3",
   "version": "3.12.7"
  }
 },
 "nbformat": 4,
 "nbformat_minor": 5
}
